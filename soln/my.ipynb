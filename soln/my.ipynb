import numpy as np;
numbers=np.array([(1,2,3),(4,5,6),(7,8,9)])
print(numbers.ndim)
print(numbers.size)
print(numbers.dtype)
